{
 "cells": [
  {
   "cell_type": "code",
   "execution_count": 1,
   "metadata": {},
   "outputs": [],
   "source": [
    "import os\n",
    "os.environ[\"GOOGLE_APPLICATION_CREDENTIALS\"] = \"abhishekbot-client.json\"\n",
    "\n",
    "import dialogflow_v2 as dialogflow\n",
    "dialogflow_session_client = dialogflow.SessionsClient()\n",
    "PROJECT_ID = \"abhishekbot-jaxuff\""
   ]
  },
  {
   "cell_type": "code",
   "execution_count": 2,
   "metadata": {},
   "outputs": [],
   "source": [
    "def detect_intent_from_text(text, session_id, language_code = 'en'):\n",
    "    session = dialogflow_session_client.session_path(PROJECT_ID, session_id)\n",
    "    text_input = dialogflow.types.TextInput(text = text, language_code = language_code)\n",
    "    query_input = dialogflow.types.QueryInput(text=text_input)\n",
    "    resonse = dialogflow_session_client.detect_intent(session = session, query_input = query_input)\n",
    "    return resonse.query_result"
   ]
  },
  {
   "cell_type": "code",
   "execution_count": 3,
   "metadata": {},
   "outputs": [],
   "source": [
    "response = detect_intent_from_text(\"show me sports news from india in hindi\", 12345)\n",
    "#12345 is session id which is unique so that bot can not mix message which are happening at same time we use session id as chat_id"
   ]
  },
  {
   "cell_type": "code",
   "execution_count": 4,
   "metadata": {},
   "outputs": [
    {
     "data": {
      "text/plain": [
       "{'geo-country': 'India', 'language': 'Hindi', 'topic': 'Sports'}"
      ]
     },
     "execution_count": 4,
     "metadata": {},
     "output_type": "execute_result"
    }
   ],
   "source": [
    "dict(response.parameters)"
   ]
  },
  {
   "cell_type": "code",
   "execution_count": 5,
   "metadata": {},
   "outputs": [
    {
     "data": {
      "text/plain": [
       "name: \"projects/abhishekbot-jaxuff/agent/intents/5621a1aa-390c-47a7-81a3-9b43107966cb\"\n",
       "display_name: \"get_news\""
      ]
     },
     "execution_count": 5,
     "metadata": {},
     "output_type": "execute_result"
    }
   ],
   "source": [
    "response.intent"
   ]
  },
  {
   "cell_type": "code",
   "execution_count": 6,
   "metadata": {},
   "outputs": [
    {
     "data": {
      "text/plain": [
       "'get_news'"
      ]
     },
     "execution_count": 6,
     "metadata": {},
     "output_type": "execute_result"
    }
   ],
   "source": [
    "response.intent.display_name"
   ]
  },
  {
   "cell_type": "code",
   "execution_count": 12,
   "metadata": {},
   "outputs": [],
   "source": [
    "from gnewsclient import gnewsclient"
   ]
  },
  {
   "cell_type": "code",
   "execution_count": 14,
   "metadata": {},
   "outputs": [],
   "source": [
    "client = gnewsclient.NewsClient()"
   ]
  },
  {
   "cell_type": "code",
   "execution_count": 15,
   "metadata": {},
   "outputs": [
    {
     "data": {
      "text/plain": [
       "{'location': 'United States', 'language': 'english', 'topic': 'Top Stories'}"
      ]
     },
     "execution_count": 15,
     "metadata": {},
     "output_type": "execute_result"
    }
   ],
   "source": [
    "client.get_config()"
   ]
  },
  {
   "cell_type": "code",
   "execution_count": 22,
   "metadata": {},
   "outputs": [],
   "source": [
    "client.location = 'India'\n",
    "client.topic = 'sports'\n",
    "client.language = 'Hindi'"
   ]
  },
  {
   "cell_type": "code",
   "execution_count": 17,
   "metadata": {},
   "outputs": [
    {
     "data": {
      "text/plain": [
       "['Top Stories',\n",
       " 'World',\n",
       " 'Nation',\n",
       " 'Business',\n",
       " 'Technology',\n",
       " 'Entertainment',\n",
       " 'Sports',\n",
       " 'Science',\n",
       " 'Health']"
      ]
     },
     "execution_count": 17,
     "metadata": {},
     "output_type": "execute_result"
    }
   ],
   "source": [
    "client.topics"
   ]
  },
  {
   "cell_type": "code",
   "execution_count": 19,
   "metadata": {},
   "outputs": [
    {
     "data": {
      "text/plain": [
       "['Australia',\n",
       " 'Botswana',\n",
       " 'Canada ',\n",
       " 'Ethiopia',\n",
       " 'Ghana',\n",
       " 'India ',\n",
       " 'Indonesia',\n",
       " 'Ireland',\n",
       " 'Israel ',\n",
       " 'Kenya',\n",
       " 'Latvia',\n",
       " 'Malaysia',\n",
       " 'Namibia',\n",
       " 'New Zealand',\n",
       " 'Nigeria',\n",
       " 'Pakistan',\n",
       " 'Philippines',\n",
       " 'Singapore',\n",
       " 'South Africa',\n",
       " 'Tanzania',\n",
       " 'Uganda',\n",
       " 'United Kingdom',\n",
       " 'United States',\n",
       " 'Zimbabwe',\n",
       " 'Czech Republic',\n",
       " 'Germany',\n",
       " 'Austria',\n",
       " 'Switzerland',\n",
       " 'Argentina',\n",
       " 'Chile',\n",
       " 'Colombia',\n",
       " 'Cuba',\n",
       " 'Mexico',\n",
       " 'Peru',\n",
       " 'Venezuela',\n",
       " 'Belgium ',\n",
       " 'France',\n",
       " 'Morocco',\n",
       " 'Senegal',\n",
       " 'Italy',\n",
       " 'Lithuania',\n",
       " 'Hungary',\n",
       " 'Netherlands',\n",
       " 'Norway',\n",
       " 'Poland',\n",
       " 'Brazil',\n",
       " 'Portugal',\n",
       " 'Romania',\n",
       " 'Slovakia',\n",
       " 'Slovenia',\n",
       " 'Sweden',\n",
       " 'Vietnam',\n",
       " 'Turkey',\n",
       " 'Greece',\n",
       " 'Bulgaria',\n",
       " 'Russia',\n",
       " 'Ukraine ',\n",
       " 'Serbia',\n",
       " 'United Arab Emirates',\n",
       " 'Saudi Arabia',\n",
       " 'Lebanon',\n",
       " 'Egypt',\n",
       " 'Bangladesh',\n",
       " 'Thailand',\n",
       " 'China',\n",
       " 'Taiwan',\n",
       " 'Hong Kong',\n",
       " 'Japan',\n",
       " 'Republic of Korea']"
      ]
     },
     "execution_count": 19,
     "metadata": {},
     "output_type": "execute_result"
    }
   ],
   "source": [
    "client.locations #Give you all location available"
   ]
  },
  {
   "cell_type": "code",
   "execution_count": 21,
   "metadata": {},
   "outputs": [
    {
     "data": {
      "text/plain": [
       "['english',\n",
       " 'indonesian',\n",
       " 'czech',\n",
       " 'german',\n",
       " 'spanish',\n",
       " 'french',\n",
       " 'italian',\n",
       " 'latvian',\n",
       " 'lithuanian',\n",
       " 'hungarian',\n",
       " 'dutch',\n",
       " 'norwegian',\n",
       " 'polish',\n",
       " 'portuguese brasil',\n",
       " 'portuguese portugal',\n",
       " 'romanian',\n",
       " 'slovak',\n",
       " 'slovenian',\n",
       " 'swedish',\n",
       " 'vietnamese',\n",
       " 'turkish',\n",
       " 'greek',\n",
       " 'bulgarian',\n",
       " 'russian',\n",
       " 'serbian',\n",
       " 'ukrainian',\n",
       " 'hebrew',\n",
       " 'arabic',\n",
       " 'marathi',\n",
       " 'hindi',\n",
       " 'bengali',\n",
       " 'tamil',\n",
       " 'telugu',\n",
       " 'malyalam',\n",
       " 'thai',\n",
       " 'chinese simplified',\n",
       " 'chinese traditional',\n",
       " 'japanese',\n",
       " 'korean']"
      ]
     },
     "execution_count": 21,
     "metadata": {},
     "output_type": "execute_result"
    }
   ],
   "source": [
    "client.languages #give you all languages available"
   ]
  },
  {
   "cell_type": "code",
   "execution_count": 23,
   "metadata": {},
   "outputs": [
    {
     "data": {
      "text/plain": [
       "[{'title': 'आईसीसी ने नियमों से जुड़े बदलावों को दी मंजूरी, खिलाड़ी को कोरोना होने की स्थिति में मिलेगा सब्सीट्यूट - ABP News',\n",
       "  'link': 'https://news.google.com/__i/rss/rd/articles/CBMibGh0dHBzOi8vd3d3LmFicGxpdmUuY29tL3Nwb3J0cy9jcmlja2V0L2ljYy1jb25maXJtcy1jaGFuZ2VzLXRvLXBsYXlpbmctcmVndWxhdGlvbnMtc2FsaXZhLXVzZS1iYW5uZWQtMTQyNTQ2MtIBcGh0dHBzOi8vd3d3LmFicGxpdmUuY29tL3Nwb3J0cy9jcmlja2V0L2ljYy1jb25maXJtcy1jaGFuZ2VzLXRvLXBsYXlpbmctcmVndWxhdGlvbnMtc2FsaXZhLXVzZS1iYW5uZWQtMTQyNTQ2Mi9hbXA?oc=5',\n",
       "  'media': None},\n",
       " {'title': 'आईपीएल में रंगभेद/ डैरेन सैमी के खिलाफ इशांत ने नस्लीय टिप्पणी की थी, 6 साल पुरानी तस्वीर वायरल हो रही - Dainik Bhaskar',\n",
       "  'link': 'https://news.google.com/__i/rss/rd/articles/CBMimAFodHRwczovL3d3dy5iaGFza2FyLmNvbS9zcG9ydHMvY3JpY2tldC9uZXdzL2lzaGFudC1zaGFybWEtY2FsbGVkLWV4LXN1bnJpc2Vycy1oeWRlcmFiYWQtdGVhbW1hdGUtZGFyZW4tc2FtbXkta2FsdS1pbi0yMDE0LWluc3RhZ3JhbS1waG90by0xMjczOTE2MTUuaHRtbNIBnAFodHRwczovL3d3dy5iaGFza2FyLmNvbS9hbXAvc3BvcnRzL2NyaWNrZXQvbmV3cy9pc2hhbnQtc2hhcm1hLWNhbGxlZC1leC1zdW5yaXNlcnMtaHlkZXJhYmFkLXRlYW1tYXRlLWRhcmVuLXNhbW15LWthbHUtaW4tMjAxNC1pbnN0YWdyYW0tcGhvdG8tMTI3MzkxNjE1Lmh0bWw?oc=5',\n",
       "  'media': None},\n",
       " {'title': 'इंग्लैंड दौरा: PAK का बैटिंग कोच बना यह पूर्व कप्तान, स्पिन का जिम्मा इस दिग्गज के पास - आज तक',\n",
       "  'link': 'https://news.google.com/__i/rss/rd/articles/CBMihgFodHRwczovL2FhanRhay5pbnRvZGF5LmluL3Nwb3J0cy9zdG9yeS9wY2ItYXBwb2ludHMteW91bmlzLWFzLWJhdHRpbmctY29hY2gtZm9yLWVuZ2xhbmQtdG91ci1tdXNodGFxLWlzLXNwaW4tY29hY2gtdHNwby0xLTExOTkwNjEuaHRtbNIBhAFodHRwczovL2FhanRhay5pbnRvZGF5LmluL2xpdGUvc3RvcnkvcGNiLWFwcG9pbnRzLXlvdW5pcy1hcy1iYXR0aW5nLWNvYWNoLWZvci1lbmdsYW5kLXRvdXItbXVzaHRhcS1pcy1zcGluLWNvYWNoLXRzcG8tMS0xMTk5MDYxLmh0bWw?oc=5',\n",
       "  'media': None},\n",
       " {'title': 'राहुल द्रविड़ ने कही बड़ी बात- आज खेल रहा होता तो किसी टीम में जगह नहीं मिलती - News18 हिंदी',\n",
       "  'link': 'https://news.google.com/__i/rss/rd/articles/CBMigQFodHRwczovL2hpbmRpLm5ld3MxOC5jb20vbmV3cy9zcG9ydHMvY3JpY2tldC1yYWh1bC1kcmF2aWQtZmVlbHMtaGUtd291bGQtbm90LWZpdC1pbi1jdXJyZW50LWNyaWNrZXQtc2FuamF5LW1hbmpyZWthci0zMTQ2NDQ5Lmh0bWzSAYUBaHR0cHM6Ly9oaW5kaS5uZXdzMTguY29tL2FtcC9uZXdzL3Nwb3J0cy9jcmlja2V0LXJhaHVsLWRyYXZpZC1mZWVscy1oZS13b3VsZC1ub3QtZml0LWluLWN1cnJlbnQtY3JpY2tldC1zYW5qYXktbWFuanJla2FyLTMxNDY0NDkuaHRtbA?oc=5',\n",
       "  'media': None},\n",
       " {'title': 'सौरव गांगुली की कप्तानी से पहले टीम इंडिया में हमें हराने का दम नहीं थाः शोएब अख्तर - Hindustan',\n",
       "  'link': 'https://news.google.com/__i/rss/rd/articles/CBMinAFodHRwczovL3d3dy5saXZlaGluZHVzdGFuLmNvbS9jcmlja2V0L3N0b3J5LWJlZm9yZS1zb3VyYXYtZ2FuZ3VseS1zLWNhcHRhaW5jeS10aGVyZS13YXMtbm8tcG93ZXItaW4tdGVhbS1pbmRpYS10by1kZWZlYXQtdXMtZmVlbHMtc2hvYWliLWFraHRhci0zMjY5NTg1Lmh0bWzSAZ4BaHR0cHM6Ly9tLmxpdmVoaW5kdXN0YW4uY29tL2NyaWNrZXQvc3RvcnktYmVmb3JlLXNvdXJhdi1nYW5ndWx5LXMtY2FwdGFpbmN5LXRoZXJlLXdhcy1uby1wb3dlci1pbi10ZWFtLWluZGlhLXRvLWRlZmVhdC11cy1mZWVscy1zaG9haWItYWtodGFyLTMyNjk1ODUuYW1wLmh0bWw?oc=5',\n",
       "  'media': None},\n",
       " {'title': 'क्रिकेट प्रेमियों के लिए खुशखबरी, इन दो देशों के बीच खेली जाएगी टेस्ट सीरीज - दैनिक जागरण (Dainik Jagran)',\n",
       "  'link': 'https://news.google.com/__i/rss/rd/articles/CBMib2h0dHBzOi8vd3d3LmphZ3Jhbi5jb20vY3JpY2tldC9oZWFkbGluZXMtd2VzdC1pbmRpZXMtY3JpY2tldGVycy1kZXBhcnQtZm9yLTMtdGVzdC10b3VyLW9mLWVuZ2xhbmQtMjAzNjk3NTkuaHRtbNIBcmh0dHBzOi8vbS5qYWdyYW4uY29tL2xpdGUvY3JpY2tldC9oZWFkbGluZXMtd2VzdC1pbmRpZXMtY3JpY2tldGVycy1kZXBhcnQtZm9yLTMtdGVzdC10b3VyLW9mLWVuZ2xhbmQtMjAzNjk3NTkuaHRtbA?oc=5',\n",
       "  'media': None},\n",
       " {'title': 'एशिया कप पर फैसला टला, इस साल सितंबर में होना है ये T20 टूर्नामेंट - आज तक',\n",
       "  'link': 'https://news.google.com/__i/rss/rd/articles/CBMicWh0dHBzOi8vYWFqdGFrLmludG9kYXkuaW4vc3BvcnRzL3N0b3J5L2FzaWEtY3VwLWRlY2lzaW9uLW9uLWhvbGQtZ2FuZ3VseS1zaGFoLWF0dGVuZC1hY2MtbWVldC10c3BvLTEtMTE5OTAzOS5odG1s0gFvaHR0cHM6Ly9hYWp0YWsuaW50b2RheS5pbi9saXRlL3N0b3J5L2FzaWEtY3VwLWRlY2lzaW9uLW9uLWhvbGQtZ2FuZ3VseS1zaGFoLWF0dGVuZC1hY2MtbWVldC10c3BvLTEtMTE5OTAzOS5odG1s?oc=5',\n",
       "  'media': None},\n",
       " {'title': \"अय्यर ने खत्म की 'विराट' मुश्किल, चौथे स्थान पर लगभग पक्की की अपनी जगह - अमर उजाला\",\n",
       "  'link': 'https://news.google.com/__i/rss/rd/articles/CBMigwFodHRwczovL3d3dy5hbWFydWphbGEuY29tL3Bob3RvLWdhbGxlcnkvY3JpY2tldC9jcmlja2V0LW5ld3Mvc2hyZXlhcy1peWVyLXNheXMtaS10aGluay1pLWZpbmlzaGVkLXRoZS1wbGFjZS1pbi1mb3VydGgtaW4tdGVhbS1pbmRpYdIBhwFodHRwczovL3d3dy5hbWFydWphbGEuY29tL2FtcC9waG90by1nYWxsZXJ5L2NyaWNrZXQvY3JpY2tldC1uZXdzL3NocmV5YXMtaXllci1zYXlzLWktdGhpbmstaS1maW5pc2hlZC10aGUtcGxhY2UtaW4tZm91cnRoLWluLXRlYW0taW5kaWE?oc=5',\n",
       "  'media': None},\n",
       " {'title': 'वीवीएस लक्ष्मण ने बताया किन बातों ने जहीर खान को बनाया सबसे अलग तेज गेंदबाज - Hindustan',\n",
       "  'link': 'https://news.google.com/__i/rss/rd/articles/CBMikQFodHRwczovL3d3dy5saXZlaGluZHVzdGFuLmNvbS9jcmlja2V0L3N0b3J5LXZ2cy1sYXhtYW4tdHdlZXQtb24temFoZWVyLWtoYW4tZGFyaW5nLXRvLWRyZWFtLWJpZy1hbmQtZGV0ZXJtaW5lZC10by1jaGFzZS10aG9zZS1kcmVhbXMtMzI2NzM0OC5odG1s0gGTAWh0dHBzOi8vbS5saXZlaGluZHVzdGFuLmNvbS9jcmlja2V0L3N0b3J5LXZ2cy1sYXhtYW4tdHdlZXQtb24temFoZWVyLWtoYW4tZGFyaW5nLXRvLWRyZWFtLWJpZy1hbmQtZGV0ZXJtaW5lZC10by1jaGFzZS10aG9zZS1kcmVhbXMtMzI2NzM0OC5hbXAuaHRtbA?oc=5',\n",
       "  'media': None},\n",
       " {'title': \"कीवी कप्तान केन विलियमसन बोले- 'धोनी उन बातों पर ध्यान नहीं देते, जो उनको भटका सकती हैं' - Hindustan\",\n",
       "  'link': 'https://news.google.com/__i/rss/rd/articles/CBMidWh0dHBzOi8vd3d3LmxpdmVoaW5kdXN0YW4uY29tL2NyaWNrZXQvc3Rvcnkta2FuZS13aWxsaWFtc29uLW9uLW1zLWRob25pLWhlLWlzLWRpZmZlcmVudC1raW5kLW9mLWEtcGVyc29uLTMyNjk5NDIuaHRtbNIBd2h0dHBzOi8vbS5saXZlaGluZHVzdGFuLmNvbS9jcmlja2V0L3N0b3J5LWthbmUtd2lsbGlhbXNvbi1vbi1tcy1kaG9uaS1oZS1pcy1kaWZmZXJlbnQta2luZC1vZi1hLXBlcnNvbi0zMjY5OTQyLmFtcC5odG1s?oc=5',\n",
       "  'media': None}]"
      ]
     },
     "execution_count": 23,
     "metadata": {},
     "output_type": "execute_result"
    }
   ],
   "source": [
    "client.get_news()"
   ]
  },
  {
   "cell_type": "code",
   "execution_count": null,
   "metadata": {},
   "outputs": [],
   "source": []
  }
 ],
 "metadata": {
  "kernelspec": {
   "display_name": "Python 3",
   "language": "python",
   "name": "python3"
  },
  "language_info": {
   "codemirror_mode": {
    "name": "ipython",
    "version": 3
   },
   "file_extension": ".py",
   "mimetype": "text/x-python",
   "name": "python",
   "nbconvert_exporter": "python",
   "pygments_lexer": "ipython3",
   "version": "3.7.6"
  }
 },
 "nbformat": 4,
 "nbformat_minor": 4
}
